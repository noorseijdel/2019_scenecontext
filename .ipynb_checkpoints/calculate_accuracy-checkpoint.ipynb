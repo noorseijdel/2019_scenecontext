{
 "cells": [
  {
   "cell_type": "code",
   "execution_count": 178,
   "metadata": {},
   "outputs": [],
   "source": [
    "import pandas as pd\n",
    "import re"
   ]
  },
  {
   "cell_type": "code",
   "execution_count": 179,
   "metadata": {},
   "outputs": [
    {
     "name": "stdout",
     "output_type": "stream",
     "text": [
      "Classes for /media/noor/DataNS/Imagesets/DNimal_I_background/stim/a_background/403/ILSVRC2012_val_00002062image034.png\n"
     ]
    }
   ],
   "source": [
    "data=pd.read_table(\"/media/noor/DataNS/Onderzoek/Projects/Backgroundtypicality/2018_scenecontext/model/resnet101_atypical.txt\",delimiter=\"\\t\", names=('ind', 'prob', 'cat'))\n",
    "print(data['ind'][0])\n"
   ]
  },
  {
   "cell_type": "code",
   "execution_count": 180,
   "metadata": {},
   "outputs": [],
   "source": [
    "start = 'a_background/'\n",
    "end = '/ILS'\n",
    "data['corAns'] = data['ind'].str.extract('%s(.*)%s' % (start, end), expand=False)"
   ]
  },
  {
   "cell_type": "code",
   "execution_count": 181,
   "metadata": {},
   "outputs": [],
   "source": [
    "data.ind = pd.to_numeric(data['ind'], errors='coerce').fillna(0)\n",
    "data.corAns = pd.to_numeric(data['corAns'], errors='coerce').fillna(0)"
   ]
  },
  {
   "cell_type": "code",
   "execution_count": 182,
   "metadata": {},
   "outputs": [
    {
     "name": "stdout",
     "output_type": "stream",
     "text": [
      "652\n"
     ]
    }
   ],
   "source": [
    "correct_count = 0 \n",
    "\n",
    "for i in range(0,(len(data)),6):\n",
    "    #print(i)\n",
    "    for ii in range(1,6):\n",
    "        #print(data['corAns'][i])\n",
    "        #print(data['ind'][i+ii])\n",
    "        if data['corAns'][i]==data['ind'][i+ii]:\n",
    "            #data['cor'][i]=1\n",
    "            correct_count = correct_count + 1  \n",
    "print(correct_count)\n",
    "    "
   ]
  },
  {
   "cell_type": "code",
   "execution_count": null,
   "metadata": {},
   "outputs": [],
   "source": []
  },
  {
   "cell_type": "code",
   "execution_count": null,
   "metadata": {},
   "outputs": [],
   "source": []
  }
 ],
 "metadata": {
  "kernelspec": {
   "display_name": "Python 2",
   "language": "python",
   "name": "rmaov"
  },
  "language_info": {
   "codemirror_mode": {
    "name": "ipython",
    "version": 2
   },
   "file_extension": ".py",
   "mimetype": "text/x-python",
   "name": "python",
   "nbconvert_exporter": "python",
   "pygments_lexer": "ipython2",
   "version": "2.7.13"
  }
 },
 "nbformat": 4,
 "nbformat_minor": 2
}
