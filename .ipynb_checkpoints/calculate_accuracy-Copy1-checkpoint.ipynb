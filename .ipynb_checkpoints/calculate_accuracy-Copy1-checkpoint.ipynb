{
 "cells": [
  {
   "cell_type": "code",
   "execution_count": 200,
   "metadata": {},
   "outputs": [],
   "source": [
    "import pandas as pd\n",
    "import re\n",
    "from array import array"
   ]
  },
  {
   "cell_type": "code",
   "execution_count": 201,
   "metadata": {},
   "outputs": [
    {
     "name": "stdout",
     "output_type": "stream",
     "text": [
      "Classes for /media/noor/DataNS/Imagesets/DNimal_I_background/BP2/high/403/ILSVRC2012_val_00002062scr_h_dog_bgr_2.png\n",
      "742\n",
      "1080\n",
      "[0.6725925925925926, 0.7701234567901235, 0.8249382716049383, 0.8486419753086419, 0.871358024691358, 0.8654320987654321]\n"
     ]
    }
   ],
   "source": [
    "data=pd.read_table(\"/media/noor/DataNS/Onderzoek/Projects/BigProject2/Analysis/DCNN/performance_lowmedhigh/27stim/resnet10_high.txt\",delimiter=\"\\t\", names=('ind', 'prob', 'cat'))\n",
    "print(data['ind'][0])\n",
    "\n",
    "\n",
    "start = 'high/'\n",
    "end = '/ILS'\n",
    "data['corAns'] = data['ind'].str.extract('%s(.*)%s' % (start, end), expand=False)\n",
    "\n",
    "data.ind = pd.to_numeric(data['ind'], errors='coerce').fillna(0)\n",
    "data.corAns = pd.to_numeric(data['corAns'], errors='coerce').fillna(0)\n",
    "\n",
    "correct_count = 0 \n",
    "\n",
    "for i in range(0,(len(data)),6):\n",
    "    #print(i)\n",
    "    for ii in range(1,6):\n",
    "        #print(data['corAns'][i])\n",
    "        #print(data['ind'][i+ii])\n",
    "        if data['corAns'][i]==data['ind'][i+ii]:\n",
    "            #data['cor'][i]=1\n",
    "            correct_count = correct_count + 1  \n",
    "print(correct_count)\n",
    "all_count = len(data)/6\n",
    "print(len(data)/6)\n",
    "acc_high=[]\n",
    "acc_high.append((float(correct_count)/float(all_count)))\n",
    "print(acc)\n",
    "\n"
   ]
  },
  {
   "cell_type": "code",
   "execution_count": 202,
   "metadata": {},
   "outputs": [
    {
     "name": "stdout",
     "output_type": "stream",
     "text": [
      "Classes for /media/noor/DataNS/Imagesets/DNimal_I_background/BP2/high/403/ILSVRC2012_val_00002062scr_h_dog_bgr_2.png\n",
      "850\n",
      "1080\n",
      "[0.687037037037037, 0.7870370370370371]\n"
     ]
    }
   ],
   "source": [
    "data=pd.read_table(\"/media/noor/DataNS/Onderzoek/Projects/BigProject2/Analysis/DCNN/performance_lowmedhigh/27stim/resnet18_high.txt\",delimiter=\"\\t\", names=('ind', 'prob', 'cat'))\n",
    "print(data['ind'][0])\n",
    "\n",
    "\n",
    "start = 'high/'\n",
    "end = '/ILS'\n",
    "data['corAns'] = data['ind'].str.extract('%s(.*)%s' % (start, end), expand=False)\n",
    "\n",
    "data.ind = pd.to_numeric(data['ind'], errors='coerce').fillna(0)\n",
    "data.corAns = pd.to_numeric(data['corAns'], errors='coerce').fillna(0)\n",
    "\n",
    "correct_count = 0 \n",
    "\n",
    "for i in range(0,(len(data)),6):\n",
    "    #print(i)\n",
    "    for ii in range(1,6):\n",
    "        #print(data['corAns'][i])\n",
    "        #print(data['ind'][i+ii])\n",
    "        if data['corAns'][i]==data['ind'][i+ii]:\n",
    "            #data['cor'][i]=1\n",
    "            correct_count = correct_count + 1  \n",
    "            \n",
    "print(correct_count)\n",
    "all_count = len(data)/6\n",
    "print(len(data)/6)\n",
    "acc_high.append((float(correct_count)/float(all_count)))\n",
    "print(acc_high)\n",
    "\n"
   ]
  },
  {
   "cell_type": "code",
   "execution_count": 203,
   "metadata": {},
   "outputs": [
    {
     "name": "stdout",
     "output_type": "stream",
     "text": [
      "Classes for /media/noor/DataNS/Imagesets/DNimal_I_background/BP2/high/403/ILSVRC2012_val_00002062scr_h_dog_bgr_2.png\n",
      "896\n",
      "1080\n",
      "[0.687037037037037, 0.7870370370370371, 0.8296296296296296]\n"
     ]
    }
   ],
   "source": [
    "data=pd.read_table(\"/media/noor/DataNS/Onderzoek/Projects/BigProject2/Analysis/DCNN/performance_lowmedhigh/27stim/resnet34_high.txt\",delimiter=\"\\t\", names=('ind', 'prob', 'cat'))\n",
    "print(data['ind'][0])\n",
    "\n",
    "\n",
    "start = 'high/'\n",
    "end = '/ILS'\n",
    "data['corAns'] = data['ind'].str.extract('%s(.*)%s' % (start, end), expand=False)\n",
    "\n",
    "data.ind = pd.to_numeric(data['ind'], errors='coerce').fillna(0)\n",
    "data.corAns = pd.to_numeric(data['corAns'], errors='coerce').fillna(0)\n",
    "\n",
    "correct_count = 0 \n",
    "\n",
    "for i in range(0,(len(data)),6):\n",
    "    #print(i)\n",
    "    for ii in range(1,6):\n",
    "        #print(data['corAns'][i])\n",
    "        #print(data['ind'][i+ii])\n",
    "        if data['corAns'][i]==data['ind'][i+ii]:\n",
    "            #data['cor'][i]=1\n",
    "            correct_count = correct_count + 1  \n",
    "            \n",
    "print(correct_count)\n",
    "all_count = len(data)/6\n",
    "print(len(data)/6)\n",
    "acc_high.append((float(correct_count)/float(all_count)))\n",
    "print(acc_high)\n"
   ]
  },
  {
   "cell_type": "code",
   "execution_count": 204,
   "metadata": {},
   "outputs": [
    {
     "name": "stdout",
     "output_type": "stream",
     "text": [
      "Classes for /media/noor/DataNS/Imagesets/DNimal_I_background/BP2/high/403/ILSVRC2012_val_00002062scr_h_dog_bgr_2.png\n",
      "916\n",
      "1080\n",
      "[0.687037037037037, 0.7870370370370371, 0.8296296296296296, 0.8481481481481481]\n"
     ]
    }
   ],
   "source": [
    "data=pd.read_table(\"/media/noor/DataNS/Onderzoek/Projects/BigProject2/Analysis/DCNN/performance_lowmedhigh/27stim/resnet50_high.txt\",delimiter=\"\\t\", names=('ind', 'prob', 'cat'))\n",
    "print(data['ind'][0])\n",
    "\n",
    "\n",
    "start = 'high/'\n",
    "end = '/ILS'\n",
    "data['corAns'] = data['ind'].str.extract('%s(.*)%s' % (start, end), expand=False)\n",
    "\n",
    "data.ind = pd.to_numeric(data['ind'], errors='coerce').fillna(0)\n",
    "data.corAns = pd.to_numeric(data['corAns'], errors='coerce').fillna(0)\n",
    "\n",
    "correct_count = 0 \n",
    "\n",
    "for i in range(0,(len(data)),6):\n",
    "    #print(i)\n",
    "    for ii in range(1,6):\n",
    "        #print(data['corAns'][i])\n",
    "        #print(data['ind'][i+ii])\n",
    "        if data['corAns'][i]==data['ind'][i+ii]:\n",
    "            #data['cor'][i]=1\n",
    "            correct_count = correct_count + 1  \n",
    "            \n",
    "print(correct_count)\n",
    "all_count = len(data)/6\n",
    "print(len(data)/6)\n",
    "acc_high.append((float(correct_count)/float(all_count)))\n",
    "print(acc_high)\n",
    "\n",
    "    "
   ]
  },
  {
   "cell_type": "code",
   "execution_count": 205,
   "metadata": {},
   "outputs": [
    {
     "name": "stdout",
     "output_type": "stream",
     "text": [
      "Classes for /media/noor/DataNS/Imagesets/DNimal_I_background/BP2/high/403/ILSVRC2012_val_00002062scr_h_dog_bgr_2.png\n",
      "949\n",
      "1080\n",
      "[0.687037037037037, 0.7870370370370371, 0.8296296296296296, 0.8481481481481481, 0.8787037037037037]\n"
     ]
    }
   ],
   "source": [
    "data=pd.read_table(\"/media/noor/DataNS/Onderzoek/Projects/BigProject2/Analysis/DCNN/performance_lowmedhigh/27stim/resnet101_high.txt\",delimiter=\"\\t\", names=('ind', 'prob', 'cat'))\n",
    "print(data['ind'][0])\n",
    "\n",
    "\n",
    "start = 'high/'\n",
    "end = '/ILS'\n",
    "data['corAns'] = data['ind'].str.extract('%s(.*)%s' % (start, end), expand=False)\n",
    "\n",
    "data.ind = pd.to_numeric(data['ind'], errors='coerce').fillna(0)\n",
    "data.corAns = pd.to_numeric(data['corAns'], errors='coerce').fillna(0)\n",
    "\n",
    "correct_count = 0 \n",
    "\n",
    "for i in range(0,(len(data)),6):\n",
    "    #print(i)\n",
    "    for ii in range(1,6):\n",
    "        #print(data['corAns'][i])\n",
    "        #print(data['ind'][i+ii])\n",
    "        if data['corAns'][i]==data['ind'][i+ii]:\n",
    "            #data['cor'][i]=1\n",
    "            correct_count = correct_count + 1  \n",
    "            \n",
    "print(correct_count)\n",
    "all_count = len(data)/6\n",
    "print(len(data)/6)\n",
    "acc_high.append((float(correct_count)/float(all_count)))\n",
    "print(acc_high)\n"
   ]
  },
  {
   "cell_type": "code",
   "execution_count": 206,
   "metadata": {},
   "outputs": [
    {
     "name": "stdout",
     "output_type": "stream",
     "text": [
      "Classes for /media/noor/DataNS/Imagesets/DNimal_I_background/BP2/high/403/ILSVRC2012_val_00002062scr_h_dog_bgr_2.png\n",
      "944\n",
      "1080\n",
      "[0.687037037037037, 0.7870370370370371, 0.8296296296296296, 0.8481481481481481, 0.8787037037037037, 0.8740740740740741]\n"
     ]
    }
   ],
   "source": [
    "data=pd.read_table(\"/media/noor/DataNS/Onderzoek/Projects/BigProject2/Analysis/DCNN/performance_lowmedhigh/27stim/resnet152_high.txt\",delimiter=\"\\t\", names=('ind', 'prob', 'cat'))\n",
    "print(data['ind'][0])\n",
    "\n",
    "\n",
    "start = 'high/'\n",
    "end = '/ILS'\n",
    "data['corAns'] = data['ind'].str.extract('%s(.*)%s' % (start, end), expand=False)\n",
    "\n",
    "data.ind = pd.to_numeric(data['ind'], errors='coerce').fillna(0)\n",
    "data.corAns = pd.to_numeric(data['corAns'], errors='coerce').fillna(0)\n",
    "\n",
    "correct_count = 0 \n",
    "\n",
    "for i in range(0,(len(data)),6):\n",
    "    #print(i)\n",
    "    for ii in range(1,6):\n",
    "        #print(data['corAns'][i])\n",
    "        #print(data['ind'][i+ii])\n",
    "        if data['corAns'][i]==data['ind'][i+ii]:\n",
    "            #data['cor'][i]=1\n",
    "            correct_count = correct_count + 1  \n",
    "            \n",
    "print(correct_count)\n",
    "all_count = len(data)/6\n",
    "print(len(data)/6)\n",
    "acc_high.append((float(correct_count)/float(all_count)))\n",
    "print(acc_high)\n"
   ]
  },
  {
   "cell_type": "code",
   "execution_count": 207,
   "metadata": {},
   "outputs": [],
   "source": [
    "import matplotlib.pyplot as plt\n",
    "import numpy as np\n",
    "%matplotlib inline \n",
    "import seaborn as sns\n",
    "cmap = sns.color_palette(\"hls\", 8)\n",
    "sns.set_palette(cmap)\n",
    "sns.set_style(\"white\")"
   ]
  },
  {
   "cell_type": "code",
   "execution_count": 208,
   "metadata": {},
   "outputs": [
    {
     "data": {
      "text/plain": [
       "[<matplotlib.lines.Line2D at 0x7f910d86ac10>]"
      ]
     },
     "execution_count": 208,
     "metadata": {},
     "output_type": "execute_result"
    },
    {
     "data": {
      "image/png": "[encoded data removed]",
      "text/plain": [
       "<matplotlib.figure.Figure at 0x7f910d91fad0>"
      ]
     },
     "metadata": {},
     "output_type": "display_data"
    }
   ],
   "source": [
    "plt.plot(acc_high)"
   ]
  },
  {
   "cell_type": "code",
   "execution_count": 209,
   "metadata": {},
   "outputs": [
    {
     "name": "stdout",
     "output_type": "stream",
     "text": [
      "Classes for /media/noor/DataNS/Imagesets/DNimal_I_background/BP2/med/403/ILSVRC2012_val_00002062scr_m_bir_bgr_1.png\n",
      "777\n"
     ]
    }
   ],
   "source": [
    "data=pd.read_table(\"/media/noor/DataNS/Onderzoek/Projects/BigProject2/Analysis/DCNN/performance_lowmedhigh/27stim/resnet10_med.txt\",delimiter=\"\\t\", names=('ind', 'prob', 'cat'))\n",
    "print(data['ind'][0])\n",
    "\n",
    "\n",
    "start = 'med/'\n",
    "end = '/ILS'\n",
    "data['corAns'] = data['ind'].str.extract('%s(.*)%s' % (start, end), expand=False)\n",
    "\n",
    "data.ind = pd.to_numeric(data['ind'], errors='coerce').fillna(0)\n",
    "data.corAns = pd.to_numeric(data['corAns'], errors='coerce').fillna(0)\n",
    "\n",
    "correct_count = 0 \n",
    "\n",
    "for i in range(0,(len(data)),6):\n",
    "    #print(i)\n",
    "    for ii in range(1,6):\n",
    "        #print(data['corAns'][i])\n",
    "        #print(data['ind'][i+ii])\n",
    "        if data['corAns'][i]==data['ind'][i+ii]:\n",
    "            #data['cor'][i]=1\n",
    "            correct_count = correct_count + 1  \n",
    "print(correct_count)\n",
    "all_count = len(data)/6\n",
    "acc_med=[]\n",
    "acc_med.append((float(correct_count)/float(all_count)))"
   ]
  },
  {
   "cell_type": "code",
   "execution_count": 210,
   "metadata": {},
   "outputs": [
    {
     "name": "stdout",
     "output_type": "stream",
     "text": [
      "Classes for /media/noor/DataNS/Imagesets/DNimal_I_background/BP2/med/403/ILSVRC2012_val_00002062scr_m_bir_bgr_1.png\n",
      "850\n",
      "1080\n",
      "[0.7194444444444444, 0.7870370370370371]\n"
     ]
    }
   ],
   "source": [
    "data=pd.read_table(\"/media/noor/DataNS/Onderzoek/Projects/BigProject2/Analysis/DCNN/performance_lowmedhigh/27stim/resnet18_med.txt\",delimiter=\"\\t\", names=('ind', 'prob', 'cat'))\n",
    "print(data['ind'][0])\n",
    "\n",
    "\n",
    "start = 'med/'\n",
    "end = '/ILS'\n",
    "data['corAns'] = data['ind'].str.extract('%s(.*)%s' % (start, end), expand=False)\n",
    "\n",
    "data.ind = pd.to_numeric(data['ind'], errors='coerce').fillna(0)\n",
    "data.corAns = pd.to_numeric(data['corAns'], errors='coerce').fillna(0)\n",
    "\n",
    "correct_count = 0 \n",
    "\n",
    "for i in range(0,(len(data)),6):\n",
    "    #print(i)\n",
    "    for ii in range(1,6):\n",
    "        #print(data['corAns'][i])\n",
    "        #print(data['ind'][i+ii])\n",
    "        if data['corAns'][i]==data['ind'][i+ii]:\n",
    "            #data['cor'][i]=1\n",
    "            correct_count = correct_count + 1  \n",
    "print(correct_count)\n",
    "all_count = len(data)/6\n",
    "print(len(data)/6)\n",
    "acc_med.append((float(correct_count)/float(all_count)))\n",
    "print(acc_med)"
   ]
  },
  {
   "cell_type": "code",
   "execution_count": 211,
   "metadata": {},
   "outputs": [
    {
     "name": "stdout",
     "output_type": "stream",
     "text": [
      "Classes for /media/noor/DataNS/Imagesets/DNimal_I_background/BP2/med/403/ILSVRC2012_val_00002062scr_m_bir_bgr_1.png\n",
      "917\n",
      "1080\n",
      "[0.7194444444444444, 0.7870370370370371, 0.8490740740740741]\n"
     ]
    }
   ],
   "source": [
    "data=pd.read_table(\"/media/noor/DataNS/Onderzoek/Projects/BigProject2/Analysis/DCNN/performance_lowmedhigh/27stim/resnet34_med.txt\",delimiter=\"\\t\", names=('ind', 'prob', 'cat'))\n",
    "print(data['ind'][0])\n",
    "\n",
    "\n",
    "start = 'med/'\n",
    "end = '/ILS'\n",
    "data['corAns'] = data['ind'].str.extract('%s(.*)%s' % (start, end), expand=False)\n",
    "\n",
    "data.ind = pd.to_numeric(data['ind'], errors='coerce').fillna(0)\n",
    "data.corAns = pd.to_numeric(data['corAns'], errors='coerce').fillna(0)\n",
    "\n",
    "correct_count = 0 \n",
    "\n",
    "for i in range(0,(len(data)),6):\n",
    "    #print(i)\n",
    "    for ii in range(1,6):\n",
    "        #print(data['corAns'][i])\n",
    "        #print(data['ind'][i+ii])\n",
    "        if data['corAns'][i]==data['ind'][i+ii]:\n",
    "            #data['cor'][i]=1\n",
    "            correct_count = correct_count + 1  \n",
    "print(correct_count)\n",
    "all_count = len(data)/6\n",
    "print(len(data)/6)\n",
    "acc_med.append((float(correct_count)/float(all_count)))\n",
    "print(acc_med)"
   ]
  },
  {
   "cell_type": "code",
   "execution_count": 212,
   "metadata": {},
   "outputs": [
    {
     "name": "stdout",
     "output_type": "stream",
     "text": [
      "Classes for /media/noor/DataNS/Imagesets/DNimal_I_background/BP2/med/403/ILSVRC2012_val_00002062scr_m_bir_bgr_1.png\n",
      "926\n",
      "1080\n",
      "[0.7194444444444444, 0.7870370370370371, 0.8490740740740741, 0.8574074074074074]\n"
     ]
    }
   ],
   "source": [
    "data=pd.read_table(\"/media/noor/DataNS/Onderzoek/Projects/BigProject2/Analysis/DCNN/performance_lowmedhigh/27stim/resnet50_med.txt\",delimiter=\"\\t\", names=('ind', 'prob', 'cat'))\n",
    "print(data['ind'][0])\n",
    "\n",
    "\n",
    "start = 'med/'\n",
    "end = '/ILS'\n",
    "data['corAns'] = data['ind'].str.extract('%s(.*)%s' % (start, end), expand=False)\n",
    "\n",
    "data.ind = pd.to_numeric(data['ind'], errors='coerce').fillna(0)\n",
    "data.corAns = pd.to_numeric(data['corAns'], errors='coerce').fillna(0)\n",
    "\n",
    "correct_count = 0 \n",
    "\n",
    "for i in range(0,(len(data)),6):\n",
    "    #print(i)\n",
    "    for ii in range(1,6):\n",
    "        #print(data['corAns'][i])\n",
    "        #print(data['ind'][i+ii])\n",
    "        if data['corAns'][i]==data['ind'][i+ii]:\n",
    "            #data['cor'][i]=1\n",
    "            correct_count = correct_count + 1  \n",
    "print(correct_count)\n",
    "all_count = len(data)/6\n",
    "print(len(data)/6)\n",
    "acc_med.append((float(correct_count)/float(all_count)))\n",
    "print(acc_med)"
   ]
  },
  {
   "cell_type": "code",
   "execution_count": 213,
   "metadata": {},
   "outputs": [
    {
     "name": "stdout",
     "output_type": "stream",
     "text": [
      "Classes for /media/noor/DataNS/Imagesets/DNimal_I_background/BP2/med/403/ILSVRC2012_val_00002062scr_m_bir_bgr_1.png\n",
      "947\n",
      "1080\n",
      "[0.7194444444444444, 0.7870370370370371, 0.8490740740740741, 0.8574074074074074, 0.8768518518518519]\n"
     ]
    }
   ],
   "source": [
    "data=pd.read_table(\"/media/noor/DataNS/Onderzoek/Projects/BigProject2/Analysis/DCNN/performance_lowmedhigh/27stim/resnet101_med.txt\",delimiter=\"\\t\", names=('ind', 'prob', 'cat'))\n",
    "print(data['ind'][0])\n",
    "\n",
    "\n",
    "start = 'med/'\n",
    "end = '/ILS'\n",
    "data['corAns'] = data['ind'].str.extract('%s(.*)%s' % (start, end), expand=False)\n",
    "\n",
    "data.ind = pd.to_numeric(data['ind'], errors='coerce').fillna(0)\n",
    "data.corAns = pd.to_numeric(data['corAns'], errors='coerce').fillna(0)\n",
    "\n",
    "correct_count = 0 \n",
    "\n",
    "for i in range(0,(len(data)),6):\n",
    "    #print(i)\n",
    "    for ii in range(1,6):\n",
    "        #print(data['corAns'][i])\n",
    "        #print(data['ind'][i+ii])\n",
    "        if data['corAns'][i]==data['ind'][i+ii]:\n",
    "            #data['cor'][i]=1\n",
    "            correct_count = correct_count + 1  \n",
    "print(correct_count)\n",
    "all_count = len(data)/6\n",
    "print(len(data)/6)\n",
    "acc_med.append((float(correct_count)/float(all_count)))\n",
    "print(acc_med)"
   ]
  },
  {
   "cell_type": "code",
   "execution_count": 214,
   "metadata": {},
   "outputs": [
    {
     "name": "stdout",
     "output_type": "stream",
     "text": [
      "Classes for /media/noor/DataNS/Imagesets/DNimal_I_background/BP2/med/403/ILSVRC2012_val_00002062scr_m_bir_bgr_1.png\n",
      "958\n",
      "1080\n",
      "[0.7194444444444444, 0.7870370370370371, 0.8490740740740741, 0.8574074074074074, 0.8768518518518519, 0.8870370370370371]\n"
     ]
    }
   ],
   "source": [
    "data=pd.read_table(\"/media/noor/DataNS/Onderzoek/Projects/BigProject2/Analysis/DCNN/performance_lowmedhigh/27stim/resnet152_med.txt\",delimiter=\"\\t\", names=('ind', 'prob', 'cat'))\n",
    "print(data['ind'][0])\n",
    "\n",
    "\n",
    "start = 'med/'\n",
    "end = '/ILS'\n",
    "data['corAns'] = data['ind'].str.extract('%s(.*)%s' % (start, end), expand=False)\n",
    "\n",
    "data.ind = pd.to_numeric(data['ind'], errors='coerce').fillna(0)\n",
    "data.corAns = pd.to_numeric(data['corAns'], errors='coerce').fillna(0)\n",
    "\n",
    "correct_count = 0 \n",
    "\n",
    "for i in range(0,(len(data)),6):\n",
    "    #print(i)\n",
    "    for ii in range(1,6):\n",
    "        #print(data['corAns'][i])\n",
    "        #print(data['ind'][i+ii])\n",
    "        if data['corAns'][i]==data['ind'][i+ii]:\n",
    "            #data['cor'][i]=1\n",
    "            correct_count = correct_count + 1  \n",
    "print(correct_count)\n",
    "all_count = len(data)/6\n",
    "print(len(data)/6)\n",
    "acc_med.append((float(correct_count)/float(all_count)))\n",
    "print(acc_med)"
   ]
  },
  {
   "cell_type": "code",
   "execution_count": 215,
   "metadata": {},
   "outputs": [
    {
     "data": {
      "text/plain": [
       "[<matplotlib.lines.Line2D at 0x7f910d4b7a10>]"
      ]
     },
     "execution_count": 215,
     "metadata": {},
     "output_type": "execute_result"
    },
    {
     "data": {
      "image/png": "[encoded data removed]",
      "text/plain": [
       "<matplotlib.figure.Figure at 0x7f910d62ab10>"
      ]
     },
     "metadata": {},
     "output_type": "display_data"
    }
   ],
   "source": [
    "plt.plot(acc_med)"
   ]
  },
  {
   "cell_type": "code",
   "execution_count": null,
   "metadata": {},
   "outputs": [],
   "source": []
  },
  {
   "cell_type": "code",
   "execution_count": 216,
   "metadata": {},
   "outputs": [
    {
     "name": "stdout",
     "output_type": "stream",
     "text": [
      "Classes for /media/noor/DataNS/Imagesets/DNimal_I_background/BP2/low/403/ILSVRC2012_val_00002062scr_l_bir_bgr_4.png\n",
      "783\n",
      "1080\n",
      "[0.725]\n"
     ]
    }
   ],
   "source": [
    "data=pd.read_table(\"/media/noor/DataNS/Onderzoek/Projects/BigProject2/Analysis/DCNN/performance_lowmedhigh/27stim/resnet10_low.txt\",delimiter=\"\\t\", names=('ind', 'prob', 'cat'))\n",
    "print(data['ind'][0])\n",
    "\n",
    "\n",
    "start = 'low/'\n",
    "end = '/ILS'\n",
    "data['corAns'] = data['ind'].str.extract('%s(.*)%s' % (start, end), expand=False)\n",
    "\n",
    "data.ind = pd.to_numeric(data['ind'], errors='coerce').fillna(0)\n",
    "data.corAns = pd.to_numeric(data['corAns'], errors='coerce').fillna(0)\n",
    "\n",
    "correct_count = 0 \n",
    "\n",
    "for i in range(0,(len(data)),6):\n",
    "    #print(i)\n",
    "    for ii in range(1,6):\n",
    "        #print(data['corAns'][i])\n",
    "        #print(data['ind'][i+ii])\n",
    "        if data['corAns'][i]==data['ind'][i+ii]:\n",
    "            #data['cor'][i]=1\n",
    "            correct_count = correct_count + 1  \n",
    "print(correct_count)\n",
    "all_count = len(data)/6\n",
    "print(len(data)/6)\n",
    "acc_low=[]\n",
    "acc_low.append((float(correct_count)/float(all_count)))\n",
    "print(acc_low)\n",
    "\n"
   ]
  },
  {
   "cell_type": "code",
   "execution_count": 217,
   "metadata": {},
   "outputs": [
    {
     "name": "stdout",
     "output_type": "stream",
     "text": [
      "Classes for /media/noor/DataNS/Imagesets/DNimal_I_background/BP2/low/403/ILSVRC2012_val_00002062scr_l_bir_bgr_4.png\n",
      "877\n",
      "1080\n",
      "[0.725, 0.812037037037037]\n"
     ]
    }
   ],
   "source": [
    "data=pd.read_table(\"/media/noor/DataNS/Onderzoek/Projects/BigProject2/Analysis/DCNN/performance_lowmedhigh/27stim/resnet18_low.txt\",delimiter=\"\\t\", names=('ind', 'prob', 'cat'))\n",
    "print(data['ind'][0])\n",
    "\n",
    "\n",
    "start = 'low/'\n",
    "end = '/ILS'\n",
    "data['corAns'] = data['ind'].str.extract('%s(.*)%s' % (start, end), expand=False)\n",
    "\n",
    "data.ind = pd.to_numeric(data['ind'], errors='coerce').fillna(0)\n",
    "data.corAns = pd.to_numeric(data['corAns'], errors='coerce').fillna(0)\n",
    "\n",
    "correct_count = 0 \n",
    "\n",
    "for i in range(0,(len(data)),6):\n",
    "    #print(i)\n",
    "    for ii in range(1,6):\n",
    "        #print(data['corAns'][i])\n",
    "        #print(data['ind'][i+ii])\n",
    "        if data['corAns'][i]==data['ind'][i+ii]:\n",
    "            #data['cor'][i]=1\n",
    "            correct_count = correct_count + 1  \n",
    "print(correct_count)\n",
    "all_count = len(data)/6\n",
    "print(len(data)/6)\n",
    "acc_low.append((float(correct_count)/float(all_count)))\n",
    "print(acc_low)"
   ]
  },
  {
   "cell_type": "code",
   "execution_count": 218,
   "metadata": {},
   "outputs": [
    {
     "name": "stdout",
     "output_type": "stream",
     "text": [
      "Classes for /media/noor/DataNS/Imagesets/DNimal_I_background/BP2/low/403/ILSVRC2012_val_00002062scr_l_bir_bgr_4.png\n",
      "932\n",
      "1080\n",
      "[0.725, 0.812037037037037, 0.8629629629629629]\n"
     ]
    }
   ],
   "source": [
    "data=pd.read_table(\"/media/noor/DataNS/Onderzoek/Projects/BigProject2/Analysis/DCNN/performance_lowmedhigh/27stim/resnet34_low.txt\",delimiter=\"\\t\", names=('ind', 'prob', 'cat'))\n",
    "print(data['ind'][0])\n",
    "\n",
    "\n",
    "start = 'low/'\n",
    "end = '/ILS'\n",
    "data['corAns'] = data['ind'].str.extract('%s(.*)%s' % (start, end), expand=False)\n",
    "\n",
    "data.ind = pd.to_numeric(data['ind'], errors='coerce').fillna(0)\n",
    "data.corAns = pd.to_numeric(data['corAns'], errors='coerce').fillna(0)\n",
    "\n",
    "correct_count = 0 \n",
    "\n",
    "for i in range(0,(len(data)),6):\n",
    "    #print(i)\n",
    "    for ii in range(1,6):\n",
    "        #print(data['corAns'][i])\n",
    "        #print(data['ind'][i+ii])\n",
    "        if data['corAns'][i]==data['ind'][i+ii]:\n",
    "            #data['cor'][i]=1\n",
    "            correct_count = correct_count + 1  \n",
    "print(correct_count)\n",
    "all_count = len(data)/6\n",
    "print(len(data)/6)\n",
    "acc_low.append((float(correct_count)/float(all_count)))\n",
    "print(acc_low)"
   ]
  },
  {
   "cell_type": "code",
   "execution_count": 219,
   "metadata": {},
   "outputs": [
    {
     "name": "stdout",
     "output_type": "stream",
     "text": [
      "Classes for /media/noor/DataNS/Imagesets/DNimal_I_background/BP2/low/403/ILSVRC2012_val_00002062scr_l_bir_bgr_4.png\n",
      "938\n",
      "1080\n",
      "[0.725, 0.812037037037037, 0.8629629629629629, 0.8685185185185185]\n"
     ]
    }
   ],
   "source": [
    "data=pd.read_table(\"/media/noor/DataNS/Onderzoek/Projects/BigProject2/Analysis/DCNN/performance_lowmedhigh/27stim/resnet50_low.txt\",delimiter=\"\\t\", names=('ind', 'prob', 'cat'))\n",
    "print(data['ind'][0])\n",
    "\n",
    "\n",
    "start = 'low/'\n",
    "end = '/ILS'\n",
    "data['corAns'] = data['ind'].str.extract('%s(.*)%s' % (start, end), expand=False)\n",
    "\n",
    "data.ind = pd.to_numeric(data['ind'], errors='coerce').fillna(0)\n",
    "data.corAns = pd.to_numeric(data['corAns'], errors='coerce').fillna(0)\n",
    "\n",
    "correct_count = 0 \n",
    "\n",
    "for i in range(0,(len(data)),6):\n",
    "    #print(i)\n",
    "    for ii in range(1,6):\n",
    "        #print(data['corAns'][i])\n",
    "        #print(data['ind'][i+ii])\n",
    "        if data['corAns'][i]==data['ind'][i+ii]:\n",
    "            #data['cor'][i]=1\n",
    "            correct_count = correct_count + 1  \n",
    "print(correct_count)\n",
    "all_count = len(data)/6\n",
    "print(len(data)/6)\n",
    "acc_low.append((float(correct_count)/float(all_count)))\n",
    "print(acc_low)"
   ]
  },
  {
   "cell_type": "code",
   "execution_count": 220,
   "metadata": {},
   "outputs": [
    {
     "name": "stdout",
     "output_type": "stream",
     "text": [
      "Classes for /media/noor/DataNS/Imagesets/DNimal_I_background/BP2/low/403/ILSVRC2012_val_00002062scr_l_bir_bgr_4.png\n",
      "972\n",
      "1080\n",
      "[0.725, 0.812037037037037, 0.8629629629629629, 0.8685185185185185, 0.9]\n"
     ]
    }
   ],
   "source": [
    "data=pd.read_table(\"/media/noor/DataNS/Onderzoek/Projects/BigProject2/Analysis/DCNN/performance_lowmedhigh/27stim/resnet101_low.txt\",delimiter=\"\\t\", names=('ind', 'prob', 'cat'))\n",
    "print(data['ind'][0])\n",
    "\n",
    "\n",
    "start = 'low/'\n",
    "end = '/ILS'\n",
    "data['corAns'] = data['ind'].str.extract('%s(.*)%s' % (start, end), expand=False)\n",
    "\n",
    "data.ind = pd.to_numeric(data['ind'], errors='coerce').fillna(0)\n",
    "data.corAns = pd.to_numeric(data['corAns'], errors='coerce').fillna(0)\n",
    "\n",
    "correct_count = 0 \n",
    "\n",
    "for i in range(0,(len(data)),6):\n",
    "    #print(i)\n",
    "    for ii in range(1,6):\n",
    "        #print(data['corAns'][i])\n",
    "        #print(data['ind'][i+ii])\n",
    "        if data['corAns'][i]==data['ind'][i+ii]:\n",
    "            #data['cor'][i]=1\n",
    "            correct_count = correct_count + 1  \n",
    "print(correct_count)\n",
    "all_count = len(data)/6\n",
    "print(len(data)/6)\n",
    "acc_low.append((float(correct_count)/float(all_count)))\n",
    "print(acc_low)"
   ]
  },
  {
   "cell_type": "code",
   "execution_count": 221,
   "metadata": {},
   "outputs": [
    {
     "name": "stdout",
     "output_type": "stream",
     "text": [
      "Classes for /media/noor/DataNS/Imagesets/DNimal_I_background/BP2/low/403/ILSVRC2012_val_00002062scr_l_bir_bgr_4.png\n",
      "976\n",
      "1080\n",
      "[0.725, 0.812037037037037, 0.8629629629629629, 0.8685185185185185, 0.9, 0.9037037037037037]\n"
     ]
    }
   ],
   "source": [
    "data=pd.read_table(\"/media/noor/DataNS/Onderzoek/Projects/BigProject2/Analysis/DCNN/performance_lowmedhigh/27stim/resnet152_low.txt\",delimiter=\"\\t\", names=('ind', 'prob', 'cat'))\n",
    "print(data['ind'][0])\n",
    "\n",
    "\n",
    "start = 'low/'\n",
    "end = '/ILS'\n",
    "data['corAns'] = data['ind'].str.extract('%s(.*)%s' % (start, end), expand=False)\n",
    "\n",
    "data.ind = pd.to_numeric(data['ind'], errors='coerce').fillna(0)\n",
    "data.corAns = pd.to_numeric(data['corAns'], errors='coerce').fillna(0)\n",
    "\n",
    "correct_count = 0 \n",
    "\n",
    "for i in range(0,(len(data)),6):\n",
    "    #print(i)\n",
    "    for ii in range(1,6):\n",
    "        #print(data['corAns'][i])\n",
    "        #print(data['ind'][i+ii])\n",
    "        if data['corAns'][i]==data['ind'][i+ii]:\n",
    "            #data['cor'][i]=1\n",
    "            correct_count = correct_count + 1  \n",
    "print(correct_count)\n",
    "all_count = len(data)/6\n",
    "print(len(data)/6)\n",
    "acc_low.append((float(correct_count)/float(all_count)))\n",
    "print(acc_low)"
   ]
  },
  {
   "cell_type": "code",
   "execution_count": 222,
   "metadata": {
    "scrolled": true
   },
   "outputs": [
    {
     "data": {
      "image/png": "[encoded data removed]",
      "text/plain": [
       "<matplotlib.figure.Figure at 0x7f910d8c3c50>"
      ]
     },
     "metadata": {},
     "output_type": "display_data"
    }
   ],
   "source": [
    "plt.plot(acc_low, color='red')\n",
    "plt.plot(acc_med, color='green')\n",
    "plt.plot(acc_high, color='blue')\n",
    "plt.legend(['low' ,'med', 'high'])\n",
    "#plt.legend(['low' , 'high'])\n",
    "x = np.arange(0,6,1)\n",
    "x_ticks_labels = ['resnet10','resnet18','resnet34','resnet50','resnet101', 'resnet152']\n",
    "axes = plt.axes()\n",
    "\n",
    "\n",
    "# Set number of ticks for x-axis\n",
    "axes.set_xticks(x)\n",
    "# Set ticks labels for x-axis\n",
    "axes.set_xticklabels(x_ticks_labels , fontsize=8)\n",
    "\n",
    "plt.show()"
   ]
  },
  {
   "cell_type": "code",
   "execution_count": null,
   "metadata": {},
   "outputs": [],
   "source": []
  },
  {
   "cell_type": "code",
   "execution_count": null,
   "metadata": {},
   "outputs": [],
   "source": []
  },
  {
   "cell_type": "code",
   "execution_count": null,
   "metadata": {},
   "outputs": [],
   "source": []
  },
  {
   "cell_type": "code",
   "execution_count": null,
   "metadata": {},
   "outputs": [],
   "source": []
  },
  {
   "cell_type": "code",
   "execution_count": null,
   "metadata": {},
   "outputs": [],
   "source": []
  }
 ],
 "metadata": {
  "kernelspec": {
   "display_name": "Python 2",
   "language": "python",
   "name": "rmaov"
  },
  "language_info": {
   "codemirror_mode": {
    "name": "ipython",
    "version": 2
   },
   "file_extension": ".py",
   "mimetype": "text/x-python",
   "name": "python",
   "nbconvert_exporter": "python",
   "pygments_lexer": "ipython2",
   "version": "2.7.13"
  }
 },
 "nbformat": 4,
 "nbformat_minor": 2
}
